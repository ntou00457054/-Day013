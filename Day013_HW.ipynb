{
 "cells": [
  {
   "cell_type": "markdown",
   "metadata": {},
   "source": [
    "# PTT 網路爬蟲實作練習\n",
    "\n",
    "\n",
    "* 能夠利用 Request + BeatifulSour 撰寫爬蟲，並存放到合適的資料結構\n"
   ]
  },
  {
   "cell_type": "markdown",
   "metadata": {},
   "source": [
    "## 作業目標\n",
    "\n",
    "根據範例 ，完成以下問題：\n",
    "\n",
    "* ① 印出最新文章的「作者」「標題」「時間」\n",
    "* ② 印出第一頁所有文章的「作者」「標題」「時間」\n"
   ]
  },
  {
   "cell_type": "markdown",
   "metadata": {},
   "source": [
    "### ① 印出最新文章的「作者」「標題」「時間」"
   ]
  },
  {
   "cell_type": "code",
   "execution_count": 1,
   "metadata": {},
   "outputs": [
    {
     "name": "stdout",
     "output_type": "stream",
     "text": [
      "[情報] 勇士隊 合力捐出100萬美金援助球場員工\n",
      "作者: thnlkj0665 (灰色地帶)\n",
      "[情報] BG將捐10萬給Little caesars area 員工\n",
      "作者: Byourself (Be your self)\n",
      "[新聞] 林書豪捐款30萬美元防疫：是時候做出改變\n",
      "作者: bbbyes123 (冬日將至)\n",
      "[情報] Giannis、Middleton各捐10萬幫助球場員工\n",
      "作者: cody7052 (Sunrise)\n",
      "[新聞] 戈貝爾罰球後「親吻」籃球　伊巴卡新冠\n",
      "作者: s66449 (老實樣)\n",
      "[新聞] 小學生看NBA獲戈貝爾簽名　7天後確診新冠\n",
      "作者: batt0909 (小魚)\n",
      "(本文已被刪除) [bullet6987]\n",
      "[公告] 板規v6.8\n",
      "[公告] 版主上任相關事項 \n",
      "作者: qazwsx879345 (Rajon Rondo)\n",
      "[情報] SEASON Schedule 賽程 March 19–20\n",
      "作者: Acetoxy (阿斯)\n",
      "[公告] 第一次被退文，可在三天後刪除退文\n",
      "作者: Vedan (味丹)\n",
      "[公告]大怒灌 \n",
      "作者: namie810303 (NBA)\n"
     ]
    }
   ],
   "source": []
  },
  {
   "cell_type": "markdown",
   "metadata": {},
   "source": [
    "### ② 印出第一頁所有文章的「作者」「標題」「時間」"
   ]
  },
  {
   "cell_type": "code",
   "execution_count": 2,
   "metadata": {},
   "outputs": [
    {
     "name": "stdout",
     "output_type": "stream",
     "text": [
      "[情報] 勇士隊 合力捐出100萬美金援助球場員工\n",
      "作者: thnlkj0665 (灰色地帶)\n",
      "[情報] BG將捐10萬給Little caesars area 員工\n",
      "作者: Byourself (Be your self)\n",
      "[新聞] 林書豪捐款30萬美元防疫：是時候做出改變\n",
      "作者: bbbyes123 (冬日將至)\n",
      "[情報] Giannis、Middleton各捐10萬幫助球場員工\n",
      "作者: cody7052 (Sunrise)\n",
      "[新聞] 戈貝爾罰球後「親吻」籃球　伊巴卡新冠\n",
      "作者: s66449 (老實樣)\n",
      "[新聞] 小學生看NBA獲戈貝爾簽名　7天後確診新冠\n",
      "作者: batt0909 (小魚)\n",
      "(本文已被刪除) [bullet6987]\n",
      "[公告] 板規v6.8\n",
      "[公告] 版主上任相關事項 \n",
      "作者: qazwsx879345 (Rajon Rondo)\n",
      "[情報] SEASON Schedule 賽程 March 19–20\n",
      "作者: Acetoxy (阿斯)\n",
      "[公告] 第一次被退文，可在三天後刪除退文\n",
      "作者: Vedan (味丹)\n",
      "[公告]大怒灌 \n",
      "作者: namie810303 (NBA)\n"
     ]
    }
   ],
   "source": [
    "import requests\n",
    "from bs4 import BeautifulSoup\n",
    "\n",
    "url = 'https://www.ptt.cc/bbs/NBA/index.html'\n",
    "r = requests.get(url)\n",
    "\n",
    "soup = BeautifulSoup(r.text, \"html5lib\")\n",
    "\n",
    "for d in soup.find_all(class_=\"title\"):\n",
    "    print(d.text.replace('\\t', '').replace('\\n', ''))\n",
    "    try:\n",
    "        r = BeautifulSoup(requests.get('https://www.ptt.cc'+d.find('a')['href']).text, \"html5lib\")\n",
    "        print('作者: ' + r.find(class_='article-meta-value').text)\n",
    "    except:\n",
    "        continue"
   ]
  },
  {
   "cell_type": "markdown",
   "metadata": {},
   "source": [
    "### ③ 試著爬爬看其他版的文章"
   ]
  },
  {
   "cell_type": "code",
   "execution_count": null,
   "metadata": {},
   "outputs": [],
   "source": []
  }
 ],
 "metadata": {
  "kernelspec": {
   "display_name": "Python 3",
   "language": "python",
   "name": "python3"
  },
  "language_info": {
   "codemirror_mode": {
    "name": "ipython",
    "version": 3
   },
   "file_extension": ".py",
   "mimetype": "text/x-python",
   "name": "python",
   "nbconvert_exporter": "python",
   "pygments_lexer": "ipython3",
   "version": "3.7.4"
  }
 },
 "nbformat": 4,
 "nbformat_minor": 2
}
