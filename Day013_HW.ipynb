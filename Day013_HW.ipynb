{
 "cells": [
  {
   "cell_type": "markdown",
   "metadata": {},
   "source": [
    "# PTT 網路爬蟲實作練習\n",
    "\n",
    "\n",
    "* 能夠利用 Request + BeatifulSour 撰寫爬蟲，並存放到合適的資料結構\n"
   ]
  },
  {
   "cell_type": "markdown",
   "metadata": {},
   "source": [
    "## 作業目標\n",
    "\n",
    "根據範例 ，完成以下問題：\n",
    "\n",
    "* ① 印出最新文章的「作者」「標題」「時間」\n",
    "* ② 印出第一頁所有文章的「作者」「標題」「時間」\n"
   ]
  },
  {
   "cell_type": "markdown",
   "metadata": {},
   "source": [
    "### ① 印出最新文章的「作者」「標題」「時間」"
   ]
  },
  {
   "cell_type": "code",
   "execution_count": 4,
   "metadata": {},
   "outputs": [
    {
     "name": "stdout",
     "output_type": "stream",
     "text": [
      "{'標題': '[公告]大怒灌 ', '時間': 'Thu Mar 12 09:57:19 2020', '作者': 'namie810303 (NBA)'}\n"
     ]
    }
   ],
   "source": [
    "import requests\n",
    "from bs4 import BeautifulSoup\n",
    "\n",
    "url = 'https://www.ptt.cc/bbs/NBA/index.html'\n",
    "r = requests.get(url)\n",
    "\n",
    "soup = BeautifulSoup(r.text, \"html5lib\")\n",
    "\n",
    "articles = []\n",
    "for d in soup.find_all(class_=\"title\"):\n",
    "    try:\n",
    "        article = {}#紀錄每篇最新文章的標題等資訊\n",
    "        \n",
    "        article['標題'] = d.text.replace('\\t','').replace('\\n','')\n",
    "        #主頁只有顯示月日，確切時間在超連結中\n",
    "        resp2 = requests.get(\"http://www.ptt.cc\" + d.find('a')['href'])\n",
    "        r = BeautifulSoup(resp2.text,\"html5lib\")\n",
    "        \n",
    "        article['時間'] = r.find_all(class_ = 'article-meta-value')[-1].text\n",
    "        article['作者'] = r.find(class_ = 'article-meta-value').text\n",
    "        \n",
    "        articles.append(article)\n",
    "    except:#若有些資訊沒有就continue\n",
    "        continue\n",
    "\n",
    "articles= sorted(articles,key=lambda x:x['時間'])\n",
    "print(articles[-1])\n",
    "\n",
    "#\n",
    "    #補充 : python 時間排序淺談 : https://marco79423.net/articles/%E6%B7%BA%E8%AB%87-python-%E7%9A%84%E6%8E%92%E5%BA%8F/"
   ]
  },
  {
   "cell_type": "markdown",
   "metadata": {},
   "source": [
    "### ② 印出第一頁所有文章的「作者」「標題」「時間」"
   ]
  },
  {
   "cell_type": "code",
   "execution_count": 13,
   "metadata": {},
   "outputs": [
    {
     "name": "stdout",
     "output_type": "stream",
     "text": [
      "標題：  (本文已被刪除) [dragon803]\n",
      "作者：  -\n",
      "時間：   3/15\n",
      "標題：  (本文已被刪除) [currykukuo]\n",
      "作者：  -\n",
      "時間：   3/15\n",
      "標題：  [花邊] 轉發席佛對球迷公開信 詹皇：已經開始想\n",
      "作者：  sodistrues\n",
      "時間：   3/15\n",
      "標題：  [新聞] 太陽獨行俠2K線上對決 唐西奇豪取50分\n",
      "作者：  currykukuo\n",
      "時間：   3/15\n",
      "標題：  [公告] 板規v6.8\n",
      "作者：  Vedan\n",
      "時間：   5/24\n",
      "標題：  [公告] 版主上任相關事項 \n",
      "作者：  qazwsx879345\n",
      "時間：  10/25\n",
      "標題：  [情報] SEASON Schedule 賽程 March 19–20\n",
      "作者：  Acetoxy\n",
      "時間：   3/02\n",
      "標題：  [公告] 第一次被退文，可在三天後刪除退文\n",
      "作者：  Vedan\n",
      "時間：   3/09\n",
      "標題：  [公告]大怒灌 \n",
      "作者：  namie810303\n",
      "時間：   3/12\n"
     ]
    }
   ],
   "source": [
    "for d in soup.find_all(class_=\"r-ent\"):\n",
    "    print('標題： ', d.find(class_='title').text.replace('\\t', '').replace('\\n', '')) #加上replace 讓編排更加易讀\n",
    "    print('作者： ', d.find(class_='author').text.replace('\\t', '').replace('\\n', ''))\n",
    "    print('時間： ', d.find(class_='date').text.replace('\\t', '').replace('\\n', ''))"
   ]
  },
  {
   "cell_type": "markdown",
   "metadata": {},
   "source": [
    "### ③ 試著爬爬看其他版的文章"
   ]
  },
  {
   "cell_type": "code",
   "execution_count": 14,
   "metadata": {},
   "outputs": [
    {
     "data": {
      "text/plain": [
       "{'標題': '[公告] 八卦板板規(2019.08.21)',\n",
       " '作者': 'arsonlolita (蘿莉塔)',\n",
       " '時間': 'Wed Aug 21 08:33:39 2019'}"
      ]
     },
     "execution_count": 14,
     "metadata": {},
     "output_type": "execute_result"
    }
   ],
   "source": [
    "import requests\n",
    "from bs4 import BeautifulSoup\n",
    "\n",
    "url = 'https://www.ptt.cc/bbs/Gossiping/index.html'\n",
    "r = requests.get(url, cookies={'over18': '1'}) #八卦版有年齡限制\n",
    "\n",
    "soup = BeautifulSoup(r.text, \"html5lib\")\n",
    "\n",
    "posts = []\n",
    "\n",
    "for d in soup.find_all(class_=\"title\"):\n",
    "    try:\n",
    "        post = {}\n",
    "        post['標題'] = d.text.replace('\\t', '').replace('\\n', '')\n",
    "        \n",
    "        r = BeautifulSoup(requests.get('https://www.ptt.cc'+d.find('a')['href'], cookies={'over18': '1'}).text, \"html5lib\")\n",
    "        post['作者'] = r.find(class_='article-meta-value').text\n",
    "        post['時間'] = r.find_all(class_='article-meta-value')[-1].text\n",
    "        \n",
    "        posts.append(post)\n",
    "    except:\n",
    "        continue\n",
    "        \n",
    "posts = sorted(posts, key= lambda x: x['時間'])\n",
    "post[-1]"
   ]
  },
  {
   "cell_type": "code",
   "execution_count": null,
   "metadata": {},
   "outputs": [],
   "source": []
  }
 ],
 "metadata": {
  "kernelspec": {
   "display_name": "Python 3",
   "language": "python",
   "name": "python3"
  },
  "language_info": {
   "codemirror_mode": {
    "name": "ipython",
    "version": 3
   },
   "file_extension": ".py",
   "mimetype": "text/x-python",
   "name": "python",
   "nbconvert_exporter": "python",
   "pygments_lexer": "ipython3",
   "version": "3.7.4"
  }
 },
 "nbformat": 4,
 "nbformat_minor": 2
}
